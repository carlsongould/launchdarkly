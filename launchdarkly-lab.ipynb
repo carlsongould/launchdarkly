{
 "cells": [
  {
   "cell_type": "markdown",
   "metadata": {},
   "source": [
    "<img src=\"images/company_logo.jpg\" alt=\"company logo\" style=\"width:200px;height:150px;\">"
   ]
  },
  {
   "cell_type": "markdown",
   "metadata": {},
   "source": [
    "\n",
    "<h1><font color=\"purple\">Lab Description</font></h1>\n",
    "The purpose of the this lab is to walk a user through using the tools associated with LaunchDarkly.  \n",
    "<h2>In completing the below exercise the following will be accomplished:</h2>\n",
    "\n",
    "<ul>\n",
    "  <li>Create a targeted feature flag with 3 variation.  The flag will be used to determine entitlements of: Enterprise, core or unknown. </li>\n",
    "  <li>Create a user context</li>\n",
    "  <li>Validate that the default variations produces the desired result when the feature flag is OFF</li>\n",
    "  <li>Validate that the variations produces the desired result when the feature flag is ON</li>\n",
    "  <li>Validate that the variations produces the desired result when the feature flag is ON</li>\n",
    "</ul> \n",
    "    \n",
    "\n"
   ]
  },
  {
   "cell_type": "markdown",
   "metadata": {},
   "source": [
    "<hr><h3> Install prerequisite</h3>\n",
    "\n",
    "    "
   ]
  },
  {
   "cell_type": "code",
   "execution_count": null,
   "metadata": {},
   "outputs": [],
   "source": [
    "!pip install launchdarkly-server-sdk\n",
    "#let's grab the most current sdk release"
   ]
  },
  {
   "cell_type": "markdown",
   "metadata": {},
   "source": [
    "<hr>\n",
    "<h1>Step 1: Getting Started with targeting </h1>\n",
    "<p><b>Section Description</b>:\n",
    "<br>We will be using targeting with one of our feature flags.\n",
    "    \n",
    "<p>Targeting allows you to assign individual contexts to a particular flag variation, based on the context (mobile, individual or other), key. You can target individual users or any custom context kind that exists in your project.\n",
    "<p>We have the 'Sandy'.  Based on the user we will create a more targeted experience in our code. Specifically, we will validate if Sandy is an enterprise customer which will result in her receiving a different experience than the Core user.  For core users, we have a default rule that outputs that the user is Core IF they are not  Sandy. \n",
    "<hr>"
   ]
  },
  {
   "cell_type": "markdown",
   "metadata": {},
   "source": [
    "<h3>Step 1.1: Create a targeted feature flag in the LaunchDarkly Console </h3>\n",
    "<br>Conduct the following steps:\n",
    "<p>1.) Click on 'Feature flag' then click 'create flag'\n",
    "<br>2.) In the 'details' section enter the following information:\n",
    "    <br>&nbsp;&nbsp;&nbsp;&nbsp;&nbsp;&nbsp;&nbsp;&nbsp;<b>name</b>: enterprise-user-flag\n",
    "    <br>&nbsp;&nbsp;&nbsp;&nbsp;&nbsp;&nbsp;&nbsp;&nbsp;<b>key</b>: enterprise-user-key\n",
    "    <br>&nbsp;&nbsp;&nbsp;&nbsp;&nbsp;&nbsp;&nbsp;&nbsp;<b>Description</b>: privide a short blurb about the intent of the flag.\n",
    "<img src=\"images/create-new-flag.jpg\" alt=\"create flag\" style=\"width:400px;height:200px;\">\n",
    "    <br>3.) In the 'configuration' section set the following:\n",
    "    <br>&nbsp;&nbsp;&nbsp;&nbsp;&nbsp;&nbsp;&nbsp;&nbsp;Choose 'custom'\n",
    "    <br>&nbsp;&nbsp;&nbsp;&nbsp;&nbsp;&nbsp;&nbsp;&nbsp;Set 'flag type' to STRING\n",
    "<br><img src=\"images/configuration.jpg\" alt=\"create flag\" style=\"width:400px;height:100px;\">\n",
    "    <br>4.) In the 'variations' section set the following:\n",
    "    <br>&nbsp;&nbsp;&nbsp;&nbsp;&nbsp;&nbsp;&nbsp;&nbsp;Set 'name' = enterprise-user and 'value' to 'Enterprise'\n",
    "    <br>&nbsp;&nbsp;&nbsp;&nbsp;&nbsp;&nbsp;&nbsp;&nbsp;Set 'name' = core-user and 'value' to 'Core'\n",
    "    <br>&nbsp;&nbsp;&nbsp;&nbsp;&nbsp;&nbsp;&nbsp;&nbsp;click 'Add variation'. <b>Note</b>: We're adding a variation so that when the flag is off we indicate that we're unable to validate user entitlements.\n",
    "    <br>&nbsp;&nbsp;&nbsp;&nbsp;&nbsp;&nbsp;&nbsp;&nbsp;Set 'name' = unable-to-determine and 'value' to 'unknown'\n",
    "<br><img src=\"images/variations.jpg\" alt=\"create flag\" style=\"width:400px;height:100px;\">\n",
    "<br>5.) In the 'Default variations' section set the following:\n",
    "    <br>&nbsp;&nbsp;&nbsp;&nbsp;&nbsp;&nbsp;&nbsp;&nbsp;Set 'Serve when targeting is ON' to 'core-user'\n",
    "    <br>&nbsp;&nbsp;&nbsp;&nbsp;&nbsp;&nbsp;&nbsp;&nbsp;Set 'Serve when targeting is OFF' to 'unable-to-determine'\n",
    "<br><img src=\"images/default-variations.jpg\" alt=\"create flag\" style=\"width:400px;height:76px;\">\n",
    "    <br>6.) Click 'create flag'\n",
    "    <hr>"
   ]
  },
  {
   "cell_type": "markdown",
   "metadata": {},
   "source": [
    "<br>7.) Click on 'Feature flags' and click our newly created feature flag.\n"
   ]
  },
  {
   "cell_type": "markdown",
   "metadata": {},
   "source": [
    "<h3>Step 1.2: Validate if a user has entitlements or not </h3>\n",
    "<br>Conduct the following steps:\n",
    "<br>&nbsp;&nbsp;&nbsp;&nbsp;&nbsp;Now we will want to make the flag more targeted to a specific user in this use case.  We will create user context Sandy. \n",
    "<br> 1.) Run the next steps to connect to LD and create Sandy.  We will create the following code:"
   ]
  },
  {
   "cell_type": "code",
   "execution_count": null,
   "metadata": {},
   "outputs": [],
   "source": [
    "# Import the LaunchDarkly client.\n",
    "import ldclient\n",
    "from ldclient import Context\n",
    "from ldclient.config import Config"
   ]
  },
  {
   "cell_type": "markdown",
   "metadata": {},
   "source": [
    "<hr>\n",
    "Create a helper function for rendering messages."
   ]
  },
  {
   "cell_type": "code",
   "execution_count": null,
   "metadata": {},
   "outputs": [],
   "source": [
    "\n",
    "def show_message(s):\n",
    "  print(\"*** %s\" % s)\n",
    "  print()\n"
   ]
  },
  {
   "cell_type": "markdown",
   "metadata": {},
   "source": [
    "\n",
    "<p>Initialize the ldclient with your environment-specific SDK key.\n",
    "    <p> To obtain the SDK key for your environment go to the LaunchDarkly console:\n",
    "    <br>1.) Click \"Account Settings\"-> \"Projects\" and click into the project you are using. \n",
    "    <br>2.) Choose the 'Test' and copy the SDK Key.\n",
    "        <p> Mine SDK Key: sdk-d3ade9e7-0534-4678-a1fe-3dd928cc6198"
   ]
  },
  {
   "cell_type": "code",
   "execution_count": null,
   "metadata": {},
   "outputs": [],
   "source": [
    "if __name__ == \"__main__\":\n",
    "  ldclient.set_config(Config(\"sdk-d3ade9e7-0534-4678-a1fe-3dd928cc6198\"))\n",
    "\n",
    "# The SDK starts up the first time ldclient.get() is called.\n",
    "if ldclient.get().is_initialized():\n",
    "  show_message(\"SDK successfully initialized!\")\n",
    "else:\n",
    "  show_message(\"SDK failed to initialize\")\n",
    "  exit()"
   ]
  },
  {
   "cell_type": "markdown",
   "metadata": {},
   "source": [
    "Set up the evaluation context. This context should appear on your LaunchDarkly contexts\n",
    "dashboard soon after you run the demo.\n"
   ]
  },
  {
   "cell_type": "code",
   "execution_count": null,
   "metadata": {},
   "outputs": [],
   "source": [
    "user1 = Context.builder('example-user-key').name('Sandy').build()\n"
   ]
  },
  {
   "cell_type": "markdown",
   "metadata": {},
   "source": [
    "<br>9.) Click on the LaunchDarkly console and click into our 'is_enterprise_uers' feature flag.\n",
    "<br>10.) Click '+ Add rule'\n",
    "<br>&nbsp;&nbsp;&nbsp;&nbsp;&nbsp;&nbsp;Under Server enterprise-user, type in Sandy in the 'user' search bar.\n"
   ]
  },
  {
   "cell_type": "code",
   "execution_count": null,
   "metadata": {},
   "outputs": [],
   "source": [
    "# Call LaunchDarkly with the feature flag key you want to evaluate.\n",
    "flag_value = ldclient.get().variation(\"is_enterprise_users\", user1, False)\n",
    "show_message(\"Feature flag 'is_enterprise_users' is %s for this user\" % (flag_value))"
   ]
  },
  {
   "cell_type": "markdown",
   "metadata": {},
   "source": [
    "The response is that the user entitlements are unknown. That is because we have not turned on the feature flag.  To do so, click on 'Feature Flags' in the LaunchDarkly console and click the off button.  it will toggle to 'on'. \n",
    "<p> Now run run the code from the previous step.  The resulting output should indicate that the user Sandy has Enterprise entitlements.\n",
    "    <p>To evaluate if the feature flag is working, we will create another user that is NOT part of the is_enterprise_users rule.  The resulting output should indicate that the user has Core entitlements only. \n",
    "<p><b>NOTE</b>: If the flag is already toggled on, toggle it off to validate that the default variation is working appropriately when the flag is not active. "
   ]
  },
  {
   "cell_type": "code",
   "execution_count": null,
   "metadata": {},
   "outputs": [],
   "source": [
    "user2 = Context.builder('example-user2-key').name('Charlie').build()\n",
    "flag_value = ldclient.get().variation(\"is_enterprise_users\", user2, False)\n",
    "show_message(\"Feature flag 'is_enterprise_users' is %s for this user\" % (flag_value))"
   ]
  },
  {
   "cell_type": "markdown",
   "metadata": {},
   "source": [
    "<hr>\n",
    "<h1>Step 2: Targeted Feature Flag   </h1>\n",
    "<p><b>Section Description</b>:\n",
    "<br>Using the same feature flag, we will call a function to process a different set of code depending on the output.  Possible options are: Enterprise, Core or Unknown(when the flag is off)\n",
    "<br>"
   ]
  },
  {
   "cell_type": "code",
   "execution_count": null,
   "metadata": {},
   "outputs": [],
   "source": [
    "\n",
    "def get_feature():\n",
    "    entitlements = ldclient.get().variation(\"is_enterprise_users\", user, False)\n",
    "    if entitlements == \"Enterprise\":\n",
    "        print(\"Enterprise Entitlements\\nYou have access to:\\n1.) Platform\\n2.) Solutions\\n3.) Developers\")\n",
    "        ldclient.get().close()\n",
    "        \n",
    "    elif entitlements == \"Core\":\n",
    "        print(\"Core Entitlements\\nYou have access to:\\n1.) Platform\\n\")\n",
    "        ldclient.get().close()\n",
    "       \n",
    "    else:\n",
    "        print(\"Unknown Entitlements\\nNot able to determine entitlements at this time.\")\n",
    "        \n",
    "        \n",
    "        \n",
    "     "
   ]
  },
  {
   "cell_type": "markdown",
   "metadata": {},
   "source": [
    "Now let's run that function and perform evaluations on the result.  "
   ]
  },
  {
   "cell_type": "code",
   "execution_count": null,
   "metadata": {},
   "outputs": [],
   "source": [
    "user = Context.builder('example-user-key').name('Sandy').build()\n",
    "get_feature()"
   ]
  },
  {
   "cell_type": "code",
   "execution_count": null,
   "metadata": {},
   "outputs": [],
   "source": [
    "user = Context.builder('example-user2-key').name('Charlie').build()\n",
    "get_feature()"
   ]
  },
  {
   "cell_type": "markdown",
   "metadata": {},
   "source": [
    "Turn off 'is_enterprise_users' feature flag and run the above step again."
   ]
  },
  {
   "cell_type": "markdown",
   "metadata": {},
   "source": [
    "<img src=\"images/company_logo.jpg\" alt=\"company logo\" style=\"width:200px;height:150px;\">"
   ]
  }
 ],
 "metadata": {
  "kernelspec": {
   "display_name": "Python 3",
   "language": "python",
   "name": "python3"
  },
  "language_info": {
   "codemirror_mode": {
    "name": "ipython",
    "version": 3
   },
   "file_extension": ".py",
   "mimetype": "text/x-python",
   "name": "python",
   "nbconvert_exporter": "python",
   "pygments_lexer": "ipython3",
   "version": "3.8.3"
  }
 },
 "nbformat": 4,
 "nbformat_minor": 4
}
